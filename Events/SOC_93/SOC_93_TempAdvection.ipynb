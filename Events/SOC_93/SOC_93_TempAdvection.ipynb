{
 "cells": [
  {
   "cell_type": "markdown",
   "id": "2f787518-6f11-4850-9ede-ff17b778ba15",
   "metadata": {},
   "source": [
    "# **The Storm Of the Century: Temperature Advection**\n",
    "***"
   ]
  },
  {
   "cell_type": "code",
   "execution_count": null,
   "id": "2b3bbd03-d298-4ae5-ac37-581255e460c2",
   "metadata": {},
   "outputs": [],
   "source": [
    "import xarray as xr\n",
    "import pandas as pd\n",
    "import numpy as np\n",
    "from datetime import datetime as dt\n",
    "from metpy.units import units\n",
    "import metpy.calc as mpcalc\n",
    "from scipy import ndimage  \n",
    "import cartopy.crs as ccrs\n",
    "import cartopy.feature as cfeature\n",
    "import matplotlib.pyplot as plt\n",
    "import matplotlib.colors as mcolors\n",
    "import matplotlib as mpl\n",
    "import metpy\n",
    "from metpy.plots import ctables\n",
    "from matplotlib.colors import LinearSegmentedColormap"
   ]
  },
  {
   "cell_type": "markdown",
   "id": "832ed7aa-3e6f-4654-93a8-35abab8b438c",
   "metadata": {},
   "source": [
    "## **Date Input**"
   ]
  },
  {
   "cell_type": "code",
   "execution_count": null,
   "id": "b45429a5-0bb7-4624-b1ac-aeda5c34b265",
   "metadata": {},
   "outputs": [],
   "source": [
    "startYear = 1993\n",
    "startMonth = 3\n",
    "startDay = 7\n",
    "startHour = 0\n",
    "startMinute = 0\n",
    "startDateTime = dt(startYear,startMonth,startDay, startHour, startMinute)\n",
    "\n",
    "endYear = 1993\n",
    "endMonth = 3\n",
    "endDay = 15\n",
    "endHour = 0\n",
    "endMinute = 0\n",
    "endDateTime = dt(endYear,endMonth,endDay, endHour, endMinute)"
   ]
  },
  {
   "cell_type": "code",
   "execution_count": null,
   "id": "76ad6f0d-a1f7-48b7-bb7d-f91d7e2c1ad3",
   "metadata": {},
   "outputs": [],
   "source": [
    "dateList = pd.date_range(startDateTime, endDateTime,freq=\"6H\")\n",
    "dateList"
   ]
  },
  {
   "cell_type": "markdown",
   "id": "f1c375a3-e71e-43f6-852f-f0a0f638d02c",
   "metadata": {},
   "source": [
    "## **CFSR**"
   ]
  },
  {
   "cell_type": "code",
   "execution_count": null,
   "id": "ccd9c6f7-e0c3-4f58-a63d-5f5bba45a10b",
   "metadata": {},
   "outputs": [],
   "source": [
    "dsZ = xr.open_dataset (f'/cfsr/data/{startYear}/g.{startYear}.0p5.anl.nc')\n",
    "dsT = xr.open_dataset (f'/cfsr/data/{startYear}/t.{startYear}.0p5.anl.nc')\n",
    "dsU = xr.open_dataset (f'/cfsr/data/{startYear}/u.{startYear}.0p5.anl.nc')\n",
    "dsV = xr.open_dataset (f'/cfsr/data/{startYear}/v.{startYear}.0p5.anl.nc')\n",
    "dsW = xr.open_dataset (f'/cfsr/data/{startYear}/w.{startYear}.0p5.anl.nc')\n",
    "dsQ = xr.open_dataset (f'/cfsr/data/{startYear}/q.{startYear}.0p5.anl.nc')\n",
    "dsSLP = xr.open_dataset (f'/cfsr/data/{startYear}/pmsl.{startYear}.0p5.anl.nc')"
   ]
  },
  {
   "cell_type": "markdown",
   "id": "24fc44f1-086b-460a-93c8-17ef4f0222f5",
   "metadata": {},
   "source": [
    "## **Area and Domain**"
   ]
  },
  {
   "cell_type": "code",
   "execution_count": null,
   "id": "21da6ed4-c3f0-4c9b-a209-878baa5ae9b4",
   "metadata": {},
   "outputs": [],
   "source": [
    "lonW = -99\n",
    "lonE = -59\n",
    "latS = 20\n",
    "latN = 50\n",
    "cLat, cLon = (latS + latN)/2, (lonW + lonE)/2\n",
    "latRange = np.arange(latS,latN+.5,.5) # expand the data range a bit beyond the plot range\n",
    "lonRange = np.arange(lonW,lonE+.5,.5) # Need to match longitude values to those of the coordinate variable\n",
    "constrainLat, constrainLon = (0.6, 7)\n",
    "proj_map = ccrs.LambertConformal(central_longitude=cLon, central_latitude=cLat)\n",
    "proj_data = ccrs.PlateCarree() # Our data is lat-lon; thus its native projection is Plate Carree.\n",
    "res = '50m'"
   ]
  },
  {
   "cell_type": "markdown",
   "id": "a935cdaa-5be3-41aa-a56d-ce809609e9db",
   "metadata": {},
   "source": [
    "## **Variables**"
   ]
  },
  {
   "cell_type": "code",
   "execution_count": null,
   "id": "177a308e-c7f9-4850-a75b-e9688222b89e",
   "metadata": {},
   "outputs": [],
   "source": [
    "plevel=850\n",
    "Z = dsZ['g'].sel(time=dateList,lev=plevel,lat=latRange,lon=lonRange)\n",
    "U = dsU['u'].sel(time=dateList,lev=plevel,lat=latRange,lon=lonRange)\n",
    "V = dsV['v'].sel(time=dateList,lev=plevel,lat=latRange,lon=lonRange)\n",
    "T = dsT['t'].sel(time=dateList,lev=plevel,lat=latRange,lon=lonRange)\n",
    "Q = dsQ['q'].sel(time=dateList,lev=plevel,lat=latRange,lon=lonRange)\n",
    "SLP = dsSLP['pmsl'].sel(time=dateList,lat=latRange,lon=lonRange)"
   ]
  },
  {
   "cell_type": "code",
   "execution_count": null,
   "id": "01918cfe-6ce9-4f9f-af21-5d195571552a",
   "metadata": {},
   "outputs": [],
   "source": [
    "crsCFSR = {'grid_mapping_name': 'latitude_longitude', 'earth_radius': 6371229.0}\n",
    "Z = Z.metpy.assign_crs(crsCFSR)\n",
    "U = U.metpy.assign_crs(crsCFSR)\n",
    "V = V.metpy.assign_crs(crsCFSR)\n",
    "T = T.metpy.assign_crs(crsCFSR)\n",
    "Q = Q.metpy.assign_crs(crsCFSR)\n",
    "SLP = SLP.metpy.assign_crs(crsCFSR)"
   ]
  },
  {
   "cell_type": "code",
   "execution_count": null,
   "id": "c903372d-4e28-42f3-9dc5-30d3e2c7a890",
   "metadata": {},
   "outputs": [],
   "source": [
    "lats = SLP.lat\n",
    "lons = SLP.lon"
   ]
  },
  {
   "cell_type": "markdown",
   "id": "eff39b25-67b4-449d-9d0e-7ac5bafdaabf",
   "metadata": {},
   "source": [
    "## **MetPy Calculations**"
   ]
  },
  {
   "cell_type": "code",
   "execution_count": null,
   "id": "7925bb68-8714-448b-8132-013535406675",
   "metadata": {},
   "outputs": [],
   "source": [
    "SLP=SLP.metpy.convert_units('hPa')\n",
    "Ums = U.metpy.convert_units('m/s')\n",
    "Vms = V.metpy.convert_units('m/s')\n",
    "T=T.metpy.convert_units('degF')"
   ]
  },
  {
   "cell_type": "code",
   "execution_count": null,
   "id": "a22e8896-cc43-4739-9c45-9a0151ebacb4",
   "metadata": {},
   "outputs": [],
   "source": [
    "# Windspeed \n",
    "#WSPD = mpcalc.wind_speed(U,V)\n",
    "######\n",
    "# Divergence\n",
    "#div = mpcalc.divergence(U, V)\n",
    "######\n",
    "# Vorticity\n",
    "#vort = mpcalc.vorticity(U, V)\n",
    "######\n",
    "# Potential Temperature \n",
    "#pottemp = mpcalc.potential_temperature(plevel*units.hPa,T)\n",
    "######\n",
    "# Frontogenesis\n",
    "#fgen = mpcalc.frontogenesis(pottemp,U,V)\n",
    "#fgen = mpcalc.smooth_gaussian(fgen,5)\n",
    "######\n",
    "# Dewpoint\n",
    "#td = mpcalc.dewpoint_from_specific_humidity(plevel*units.hPa,Q.metpy.convert_units('g/kg'))\n",
    "#td = mpcalc.smooth_gaussian(td,20)\n",
    "######\n",
    "# RH\n",
    "#RH = mpcalc.relative_humidity_from_specific_humidity(plevel*units.hPa,T,Q)\n",
    "######\n",
    "# Temperature Advection\n",
    "tadv = mpcalc.advection(T, Ums, Vms)"
   ]
  },
  {
   "cell_type": "code",
   "execution_count": null,
   "id": "5a9b2c9e-9ae0-4f45-b1e2-74bb23cccde8",
   "metadata": {},
   "outputs": [],
   "source": [
    "kelvin_to_fahrenheit = 9 / 5  # Conversion factor for K to °F\n",
    "seconds_to_hours = 3600       # Conversion factor for seconds to hours"
   ]
  },
  {
   "cell_type": "code",
   "execution_count": null,
   "id": "5561ed5c-a957-4026-a628-af178eecec40",
   "metadata": {},
   "outputs": [],
   "source": [
    "temperature_adv_f_per_s = tadv * kelvin_to_fahrenheit\n",
    "\n",
    "# Convert from °F/s to °F/hr\n",
    "temperature_adv_f_per_hr = temperature_adv_f_per_s * seconds_to_hours\n",
    "tadv=temperature_adv_f_per_hr"
   ]
  },
  {
   "cell_type": "code",
   "execution_count": null,
   "id": "ad0b6e35-b4b8-44ef-ac1c-9dfa5e17521f",
   "metadata": {},
   "outputs": [],
   "source": [
    "tadv"
   ]
  },
  {
   "cell_type": "code",
   "execution_count": null,
   "id": "6261b192-d4e0-47b3-8949-57a9349199ab",
   "metadata": {},
   "outputs": [],
   "source": [
    "tadv.min(),tadv.max()"
   ]
  },
  {
   "cell_type": "markdown",
   "id": "bb754f1b-10e2-4640-b15b-d928720c7fc8",
   "metadata": {},
   "source": [
    "## **Graphing**"
   ]
  },
  {
   "cell_type": "code",
   "execution_count": null,
   "id": "88583875-cd8e-4690-b7af-3dba751156a5",
   "metadata": {},
   "outputs": [],
   "source": [
    "contour_int = 1\n",
    "contourf_int = .5\n",
    "negtadvContours = np.arange (-12, -1, contourf_int)\n",
    "postadvContours = np.arange (3, 29, contour_int)\n",
    "advContours = np.arange (-12,28,contourf_int)"
   ]
  },
  {
   "cell_type": "code",
   "execution_count": null,
   "id": "db2de946-5e3b-4ece-b5e7-abcbd10c21cd",
   "metadata": {},
   "outputs": [],
   "source": [
    "#def segment_cmap(cmap_name, start, end):\n",
    "    #cmap = plt.get_cmap(cmap_name)\n",
    "    #colors = cmap(np.linspace(start, end))\n",
    "    #return LinearSegmentedColormap.from_list(f\"{cmap_name}_segment_{start}_{end}\", colors)\n",
    "\n"
   ]
  },
  {
   "cell_type": "code",
   "execution_count": null,
   "id": "3e792ba3-3223-45a2-a5a9-a2467c3facaa",
   "metadata": {},
   "outputs": [],
   "source": [
    "#segment_cmap = segment_cmap('RdPu', 0.4, 1)"
   ]
  },
  {
   "cell_type": "code",
   "execution_count": null,
   "id": "a45036d0-bb16-46c2-b248-9cca2cb8cea3",
   "metadata": {},
   "outputs": [],
   "source": [
    "cmap1='Blues_r'\n",
    "cmap2='Reds'\n",
    "bounds = np.arange(0, 60, 5)\n",
    "ticks = bounds\n"
   ]
  },
  {
   "cell_type": "code",
   "execution_count": null,
   "id": "7d62d702-8507-4c2e-ae31-ab6740d2275f",
   "metadata": {},
   "outputs": [],
   "source": [
    "frnt=tadv.fillna(0)"
   ]
  },
  {
   "cell_type": "code",
   "execution_count": null,
   "id": "9d124cab-3734-4e8b-8250-9ef9c7c59686",
   "metadata": {},
   "outputs": [],
   "source": [
    "for time in dateList:\n",
    "    print(\"Processing\", time)\n",
    "    \n",
    "    # Create the time strings, for the figure title as well as for the file name.\n",
    "    timeStr = dt.strftime(time,format=\"%Y-%m-%d %H%M UTC\")\n",
    "    timeStrFile = dt.strftime(time,format=\"%Y%m%d%H\")\n",
    "    levstr=f'{plevel}'\n",
    "    \n",
    "    tl1 = str('CFSR, Valid at: '+ timeStr)\n",
    "    tl2 = (\"Temperature Advection °F/hr \" + levstr + \"mb\")\n",
    "    \n",
    "    title_line = (tl1 + '\\n' + tl2 + '\\n')\n",
    "    \n",
    "    fig = plt.figure(figsize=(22,14)) # Increase size to adjust for the constrained lats/lons\n",
    "    ax = plt.subplot(1,1,1,projection=proj_map)\n",
    "    ax.set_extent ([lonW+constrainLon,lonE-constrainLon,latS+constrainLat,latN-constrainLat])\n",
    "    ax.add_feature(cfeature.COASTLINE.with_scale(res))\n",
    "    ax.add_feature(cfeature.STATES.with_scale(res),edgecolor='brown')\n",
    "    ax.add_feature (cfeature.STATES.with_scale(res))\n",
    "    ax.add_feature (cfeature.RIVERS.with_scale(res))\n",
    "    ax.add_feature (cfeature.LAND.with_scale(res))\n",
    "    ax.add_feature (cfeature.COASTLINE.with_scale(res))\n",
    "    ax.add_feature (cfeature.LAKES.with_scale(res))\n",
    "    ax.add_feature (cfeature.STATES.with_scale(res))\n",
    "    ax.add_feature(cfeature.OCEAN)\n",
    "    \n",
    " \n",
    "   \n",
    "    #cPosTAdv = ax.contour(lons, lats, tadv.sel(time=time), levels=postadvContours, colors='red', linewidths=3, transform=proj_data)\n",
    "    #ax.clabel(cPosTAdv, inline=1, fontsize=12, fmt='%.0f')\n",
    "    \n",
    "    \n",
    "    #cNegTAdv = ax.contour(lons, lats, tadv.sel(time=time), levels=negtadvContours, colors='blue', linewidths=3, transform=proj_data)\n",
    "    #ax.clabel(cNegTAdv, inline=1, fontsize=12, fmt='%.0f')\n",
    "    \n",
    "    contourf1=ax.contourf(lons,lats,tadv.sel(time=time),levels=postadvContours,cmap=cmap2,transform=proj_data,extend='max')\n",
    "    contourf2=ax.contourf(lons,lats,tadv.sel(time=time),levels=negtadvContours,cmap=cmap1,transform=proj_data,extend='min')\n",
    "    \n",
    "    cbar1 = plt.colorbar(contourf1, ax=ax)\n",
    "    cbar.set_label('Positive Temperature Advection °F/hr ', rotation=270, labelpad=15)\n",
    "    cbar2 = plt.colorbar(contourf2, ax=ax)\n",
    "    cbar.set_label('Negative Temperature Advection °F/hr ', rotation=270, labelpad=15)\n",
    "    \n",
    "    # Wind barbs\n",
    "    #skip = 4\n",
    "    #ax.barbs(lons[::skip],lats[::skip],UKts.sel(time=time)[::skip,::skip].values, VKts.sel(time=time)[::skip,::skip].values, color='black',zorder=2,transform=proj_data)\n",
    "\n",
    "    title = plt.title(title_line,fontsize=16)"
   ]
  },
  {
   "cell_type": "code",
   "execution_count": null,
   "id": "fb0c2cb9-5feb-4e2b-8e44-ddbb887ddbd3",
   "metadata": {},
   "outputs": [],
   "source": []
  }
 ],
 "metadata": {
  "kernelspec": {
   "display_name": "Python 3 January 2024 Environment",
   "language": "python",
   "name": "jan24"
  },
  "language_info": {
   "codemirror_mode": {
    "name": "ipython",
    "version": 3
   },
   "file_extension": ".py",
   "mimetype": "text/x-python",
   "name": "python",
   "nbconvert_exporter": "python",
   "pygments_lexer": "ipython3",
   "version": "3.11.7"
  }
 },
 "nbformat": 4,
 "nbformat_minor": 5
}
