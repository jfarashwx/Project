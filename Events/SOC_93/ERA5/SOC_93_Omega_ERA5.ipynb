{
 "cells": [
  {
   "cell_type": "markdown",
   "id": "2f787518-6f11-4850-9ede-ff17b778ba15",
   "metadata": {},
   "source": [
    "# **The Storm Of the Century: Omega ERA5**\n",
    "***"
   ]
  },
  {
   "cell_type": "code",
   "execution_count": null,
   "id": "2b3bbd03-d298-4ae5-ac37-581255e460c2",
   "metadata": {},
   "outputs": [],
   "source": [
    "import xarray as xr\n",
    "import pandas as pd\n",
    "import numpy as np\n",
    "from datetime import datetime as dt\n",
    "from metpy.units import units\n",
    "import metpy.calc as mpcalc\n",
    "from scipy import ndimage  \n",
    "import cartopy.crs as ccrs\n",
    "import cartopy.feature as cfeature\n",
    "import matplotlib.pyplot as plt\n",
    "import matplotlib.colors as mcolors\n",
    "import matplotlib as mpl\n",
    "import metpy\n",
    "from metpy.plots import ctables\n",
    "from matplotlib.colors import LinearSegmentedColormap"
   ]
  },
  {
   "cell_type": "markdown",
   "id": "832ed7aa-3e6f-4654-93a8-35abab8b438c",
   "metadata": {},
   "source": [
    "## **Date Input**"
   ]
  },
  {
   "cell_type": "code",
   "execution_count": null,
   "id": "b45429a5-0bb7-4624-b1ac-aeda5c34b265",
   "metadata": {},
   "outputs": [],
   "source": [
    "startYear = 1993\n",
    "startMonth = 3\n",
    "startDay = 7\n",
    "startHour = 0\n",
    "startMinute = 0\n",
    "startDateTime = dt(startYear,startMonth,startDay, startHour, startMinute)\n",
    "\n",
    "endYear = 1993\n",
    "endMonth = 3\n",
    "endDay = 15\n",
    "endHour = 0\n",
    "endMinute = 0\n",
    "endDateTime = dt(endYear,endMonth,endDay, endHour, endMinute)"
   ]
  },
  {
   "cell_type": "code",
   "execution_count": null,
   "id": "76ad6f0d-a1f7-48b7-bb7d-f91d7e2c1ad3",
   "metadata": {},
   "outputs": [],
   "source": [
    "dateList = pd.date_range(startDateTime, endDateTime,freq=\"6H\")\n",
    "dateList"
   ]
  },
  {
   "cell_type": "markdown",
   "id": "f1c375a3-e71e-43f6-852f-f0a0f638d02c",
   "metadata": {},
   "source": [
    "## **ERA5**"
   ]
  },
  {
   "cell_type": "code",
   "execution_count": null,
   "id": "739a0be7-13dc-4699-9ef8-e64a4b061f81",
   "metadata": {},
   "outputs": [],
   "source": [
    "reanalysis = xr.open_zarr(\n",
    "    'gs://gcp-public-data-arco-era5/ar/1959-2022-full_37-1h-0p25deg-chunk-1.zarr-v2', \n",
    "    consolidated=True\n",
    ")"
   ]
  },
  {
   "cell_type": "code",
   "execution_count": null,
   "id": "25a658c1-5dd1-49f5-88ca-502dcb0bc301",
   "metadata": {},
   "outputs": [],
   "source": [
    "reanalysis"
   ]
  },
  {
   "cell_type": "markdown",
   "id": "24fc44f1-086b-460a-93c8-17ef4f0222f5",
   "metadata": {},
   "source": [
    "## **Area and Domain**"
   ]
  },
  {
   "cell_type": "code",
   "execution_count": null,
   "id": "21da6ed4-c3f0-4c9b-a209-878baa5ae9b4",
   "metadata": {},
   "outputs": [],
   "source": [
    "lonW = -99 + 360\n",
    "lonE = -59 + 360\n",
    "latS = 20\n",
    "latN = 50\n",
    "inc=.25\n",
    "cLat, cLon = (latS + latN)/2, (lonW + lonE)/2\n",
    "latRange = np.arange(latN,latS-inc,-inc) # expand the data range a bit beyond the plot range\n",
    "lonRange = np.arange(lonW,lonE+inc,+inc) # Need to match longitude values to those of the coordinate variable\n",
    "constrainLat, constrainLon = (0.6, 7)\n",
    "proj_map = ccrs.LambertConformal(central_longitude=cLon, central_latitude=cLat)\n",
    "proj_data = ccrs.PlateCarree() # Our data is lat-lon; thus its native projection is Plate Carree.\n",
    "res = '50m'"
   ]
  },
  {
   "cell_type": "markdown",
   "id": "a935cdaa-5be3-41aa-a56d-ce809609e9db",
   "metadata": {},
   "source": [
    "## **Variables**"
   ]
  },
  {
   "cell_type": "code",
   "execution_count": null,
   "id": "177a308e-c7f9-4850-a75b-e9688222b89e",
   "metadata": {},
   "outputs": [],
   "source": [
    "plevel=850\n",
    "O = reanalysis['vertical_velocity'].sel(time=dateList,level=plevel,latitude=latRange,longitude=lonRange)"
   ]
  },
  {
   "cell_type": "code",
   "execution_count": null,
   "id": "c903372d-4e28-42f3-9dc5-30d3e2c7a890",
   "metadata": {},
   "outputs": [],
   "source": [
    "lats = O.latitude\n",
    "lons = O.longitude"
   ]
  },
  {
   "cell_type": "markdown",
   "id": "eff39b25-67b4-449d-9d0e-7ac5bafdaabf",
   "metadata": {},
   "source": [
    "## **MetPy Calculations**"
   ]
  },
  {
   "cell_type": "code",
   "execution_count": null,
   "id": "d92a9043-300a-46da-b27e-77d541548cb9",
   "metadata": {},
   "outputs": [],
   "source": [
    "omega = O.compute()"
   ]
  },
  {
   "cell_type": "code",
   "execution_count": null,
   "id": "10b4cff5-5e35-4c2c-ac00-ab7b45effa22",
   "metadata": {},
   "outputs": [],
   "source": [
    "omega"
   ]
  },
  {
   "cell_type": "markdown",
   "id": "bb754f1b-10e2-4640-b15b-d928720c7fc8",
   "metadata": {},
   "source": [
    "## **Graphing**"
   ]
  },
  {
   "cell_type": "code",
   "execution_count": null,
   "id": "6261b192-d4e0-47b3-8949-57a9349199ab",
   "metadata": {},
   "outputs": [],
   "source": [
    "omega.min(),omega.max()"
   ]
  },
  {
   "cell_type": "code",
   "execution_count": null,
   "id": "88583875-cd8e-4690-b7af-3dba751156a5",
   "metadata": {},
   "outputs": [],
   "source": [
    "contour_int=.5\n",
    "neg_w_Contours = np.arange (-16, 0, contour_int)\n",
    "pos_w_Contours = np.arange (0, 6, contour_int)\n",
    "wContours = np.arange (-16,6,contour_int)"
   ]
  },
  {
   "cell_type": "code",
   "execution_count": null,
   "id": "01c0bf73-24cb-42d5-9ba4-b89235051900",
   "metadata": {},
   "outputs": [],
   "source": [
    "def segment_cmap(cmap_name, start, end):\n",
    "    \n",
    "    cmap = plt.get_cmap(cmap_name)\n",
    "    \n",
    "    \n",
    "    colors = cmap(np.linspace(start, end))\n",
    "    return LinearSegmentedColormap.from_list(f\"{cmap_name}_segment_{start}_{end}\", colors)\n"
   ]
  },
  {
   "cell_type": "code",
   "execution_count": null,
   "id": "88a91dfb-b920-4e9c-96a5-c458086d5bb3",
   "metadata": {},
   "outputs": [],
   "source": [
    "#segment_cmap = segment_cmap('copper', 0.5, 1)"
   ]
  },
  {
   "cell_type": "code",
   "execution_count": null,
   "id": "8f82a9d3-f27a-43e8-a742-14ed97f9ea58",
   "metadata": {},
   "outputs": [],
   "source": [
    "cmap1='Purples_r'\n",
    "#bounds = np.arange(minomega,maxomega, 10)\n",
    "#ticks = 10\n",
    "cmap2='Greens'"
   ]
  },
  {
   "cell_type": "code",
   "execution_count": null,
   "id": "0abb766b-4424-4b8b-89c3-2ee67ec92ef4",
   "metadata": {},
   "outputs": [],
   "source": [
    "#cmap_colors = cmap(np.linspace(0, 1, cmap.N))\n",
    "#n_transparent = 50  # Number of first entries to make transparent\n",
    "#cmap_colors[:n_transparent, -1] = np.linspace(0, 1, n_transparent)  # Adjust alpha from 0 to 1\n",
    "\n",
    "# Create a new colormap with the modified alpha\n",
    "#transparent_cmap = LinearSegmentedColormap.from_list('copper_transparent', cmap_colors)\n",
    "#cmap=transparent_cmap"
   ]
  },
  {
   "cell_type": "code",
   "execution_count": null,
   "id": "9d124cab-3734-4e8b-8250-9ef9c7c59686",
   "metadata": {},
   "outputs": [],
   "source": [
    "for time in dateList:\n",
    "    print(\"Processing\", time)\n",
    "    \n",
    "    # Create the time strings, for the figure title as well as for the file name.\n",
    "    timeStr = dt.strftime(time,format=\"%Y-%m-%d %H%M UTC\")\n",
    "    timeStrFile = dt.strftime(time,format=\"%Y%m%d%H\")\n",
    "    levstr=f'{plevel}'\n",
    "    \n",
    "    tl1 = str('ERA5, Valid at: '+ timeStr)\n",
    "    tl2 = (\"Omega pa/second at \" + levstr + \"mb\")\n",
    "    \n",
    "    title_line = (tl1 + '\\n' + tl2 + '\\n')\n",
    "    \n",
    "    fig = plt.figure(figsize=(22,14)) # Increase size to adjust for the constrained lats/lons\n",
    "    ax = plt.subplot(1,1,1,projection=proj_map)\n",
    "    ax.set_extent ([lonW+constrainLon,lonE-constrainLon,latS+constrainLat,latN-constrainLat])\n",
    "    ax.add_feature(cfeature.COASTLINE.with_scale(res))\n",
    "    ax.add_feature(cfeature.STATES.with_scale(res),edgecolor='brown')\n",
    "    ax.add_feature (cfeature.STATES.with_scale(res))\n",
    "    ax.add_feature (cfeature.RIVERS.with_scale(res))\n",
    "    ax.add_feature (cfeature.LAND.with_scale(res))\n",
    "    ax.add_feature (cfeature.COASTLINE.with_scale(res))\n",
    "    ax.add_feature (cfeature.LAKES.with_scale(res))\n",
    "    ax.add_feature (cfeature.STATES.with_scale(res))\n",
    "    ax.add_feature(cfeature.OCEAN)\n",
    "    \n",
    " \n",
    "    # Contour lines \n",
    "    #Temp= ax.contour(lons, lats, vorticity.sel(time=time), levels=VortContours, colors='black', linewidths=3, transform=proj_data)\n",
    "    #ax.clabel(Temp, inline=1, fontsize=12, fmt='%.0f')\n",
    "\n",
    "    contourf1=ax.contourf(lons,lats,omega.sel(time=time),levels=pos_w_Contours,cmap=cmap2,transform=proj_data,extend='max')\n",
    "    contourf2=ax.contourf(lons,lats,omega.sel(time=time),levels=neg_w_Contours,cmap=cmap1,transform=proj_data,extend='min')\n",
    "\n",
    "    cbar1 = plt.colorbar(contourf1, ax=ax)\n",
    "    cbar1.set_label('Positive Omega pa/second ', rotation=270, labelpad=15)\n",
    "    cbar2 = plt.colorbar(contourf2, ax=ax)\n",
    "    cbar2.set_label('Negative Omega pa/second ', rotation=270, labelpad=15)\n",
    "    \n",
    "    # Wind barbs\n",
    "    #skip = 4\n",
    "    #ax.barbs(lons[::skip],lats[::skip],UKts.sel(time=time)[::skip,::skip].values, VKts.sel(time=time)[::skip,::skip].values, color='black',zorder=2,transform=proj_data)\n",
    "\n",
    "    title = plt.title(title_line,fontsize=16)"
   ]
  },
  {
   "cell_type": "code",
   "execution_count": null,
   "id": "fb0c2cb9-5feb-4e2b-8e44-ddbb887ddbd3",
   "metadata": {},
   "outputs": [],
   "source": []
  }
 ],
 "metadata": {
  "kernelspec": {
   "display_name": "Python 3 January 2024 Environment",
   "language": "python",
   "name": "jan24"
  },
  "language_info": {
   "codemirror_mode": {
    "name": "ipython",
    "version": 3
   },
   "file_extension": ".py",
   "mimetype": "text/x-python",
   "name": "python",
   "nbconvert_exporter": "python",
   "pygments_lexer": "ipython3",
   "version": "3.11.7"
  }
 },
 "nbformat": 4,
 "nbformat_minor": 5
}
