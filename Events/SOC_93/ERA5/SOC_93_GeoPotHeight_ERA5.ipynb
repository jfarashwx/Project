{
 "cells": [
  {
   "cell_type": "markdown",
   "id": "2f787518-6f11-4850-9ede-ff17b778ba15",
   "metadata": {},
   "source": [
    "# **The Storm Of the Century: Geopotential Height ERA5**\n",
    "***"
   ]
  },
  {
   "cell_type": "code",
   "execution_count": null,
   "id": "2b3bbd03-d298-4ae5-ac37-581255e460c2",
   "metadata": {},
   "outputs": [],
   "source": [
    "import xarray as xr\n",
    "import pandas as pd\n",
    "import numpy as np\n",
    "from datetime import datetime as dt\n",
    "from metpy.units import units\n",
    "import metpy.calc as mpcalc\n",
    "from scipy import ndimage  \n",
    "import cartopy.crs as ccrs\n",
    "import cartopy.feature as cfeature\n",
    "import matplotlib.pyplot as plt\n",
    "import matplotlib.colors as mcolors\n",
    "import matplotlib as mpl\n",
    "import metpy\n",
    "from metpy.plots import ctables\n",
    "from matplotlib.colors import LinearSegmentedColormap"
   ]
  },
  {
   "cell_type": "code",
   "execution_count": null,
   "id": "4b34cb47-30c5-496b-9702-14b7b34c4625",
   "metadata": {},
   "outputs": [],
   "source": [
    "reanalysis = xr.open_zarr(\n",
    "    'gs://gcp-public-data-arco-era5/ar/1959-2022-full_37-1h-0p25deg-chunk-1.zarr-v2', \n",
    "    consolidated=True\n",
    ")"
   ]
  },
  {
   "cell_type": "code",
   "execution_count": null,
   "id": "d58c6ef1-1611-4c35-acbb-629740cd2ca3",
   "metadata": {},
   "outputs": [],
   "source": [
    "reanalysis"
   ]
  },
  {
   "cell_type": "markdown",
   "id": "832ed7aa-3e6f-4654-93a8-35abab8b438c",
   "metadata": {},
   "source": [
    "## **Date Input**"
   ]
  },
  {
   "cell_type": "code",
   "execution_count": null,
   "id": "b45429a5-0bb7-4624-b1ac-aeda5c34b265",
   "metadata": {},
   "outputs": [],
   "source": [
    "startYear = 2011\n",
    "startMonth = 10\n",
    "startDay = 7\n",
    "startHour = 0\n",
    "startMinute = 0\n",
    "startDateTime = dt(startYear,startMonth,startDay, startHour, startMinute)\n",
    "\n",
    "endYear = 1993\n",
    "endMonth = 3\n",
    "endDay = 15\n",
    "endHour = 0\n",
    "endMinute = 0\n",
    "endDateTime = dt(endYear,endMonth,endDay, endHour, endMinute)"
   ]
  },
  {
   "cell_type": "code",
   "execution_count": null,
   "id": "76ad6f0d-a1f7-48b7-bb7d-f91d7e2c1ad3",
   "metadata": {},
   "outputs": [],
   "source": [
    "dateList = pd.date_range(startDateTime, endDateTime,freq=\"6H\")\n",
    "dateList"
   ]
  },
  {
   "cell_type": "markdown",
   "id": "f1c375a3-e71e-43f6-852f-f0a0f638d02c",
   "metadata": {},
   "source": [
    "## **ERA-5**"
   ]
  },
  {
   "cell_type": "markdown",
   "id": "24fc44f1-086b-460a-93c8-17ef4f0222f5",
   "metadata": {},
   "source": [
    "## **Area and Domain**"
   ]
  },
  {
   "cell_type": "code",
   "execution_count": null,
   "id": "21da6ed4-c3f0-4c9b-a209-878baa5ae9b4",
   "metadata": {},
   "outputs": [],
   "source": [
    "lonW = -99 + 360\n",
    "lonE = -59 + 360\n",
    "latS = 20\n",
    "latN = 50\n",
    "inc=.25\n",
    "cLat, cLon = (latS + latN)/2, (lonW + lonE)/2\n",
    "latRange = np.arange(latN,latS-inc,-inc) # expand the data range a bit beyond the plot range\n",
    "lonRange = np.arange(lonW,lonE+inc,+inc) # Need to match longitude values to those of the coordinate variable\n",
    "constrainLat, constrainLon = (0.6, 7)\n",
    "proj_map = ccrs.LambertConformal(central_longitude=cLon, central_latitude=cLat)\n",
    "proj_data = ccrs.PlateCarree() # Our data is lat-lon; thus its native projection is Plate Carree.\n",
    "res = '50m'"
   ]
  },
  {
   "cell_type": "markdown",
   "id": "a935cdaa-5be3-41aa-a56d-ce809609e9db",
   "metadata": {},
   "source": [
    "## **Variables**"
   ]
  },
  {
   "cell_type": "code",
   "execution_count": null,
   "id": "177a308e-c7f9-4850-a75b-e9688222b89e",
   "metadata": {},
   "outputs": [],
   "source": [
    "plevel=500\n",
    "Z = reanalysis['geopotential'].sel(time=dateList,level=plevel,latitude=latRange,longitude=lonRange)"
   ]
  },
  {
   "cell_type": "code",
   "execution_count": null,
   "id": "48210a03-4643-4bf3-b124-d5e0643f1589",
   "metadata": {},
   "outputs": [],
   "source": [
    "Z"
   ]
  },
  {
   "cell_type": "code",
   "execution_count": null,
   "id": "c903372d-4e28-42f3-9dc5-30d3e2c7a890",
   "metadata": {},
   "outputs": [],
   "source": [
    "lats = Z.latitude\n",
    "lons = Z.longitude"
   ]
  },
  {
   "cell_type": "markdown",
   "id": "eff39b25-67b4-449d-9d0e-7ac5bafdaabf",
   "metadata": {},
   "source": [
    "## **MetPy Calculations**"
   ]
  },
  {
   "cell_type": "code",
   "execution_count": null,
   "id": "ae6ccb18-eb78-4507-b18f-59835c8e6620",
   "metadata": {},
   "outputs": [],
   "source": [
    "HGHT = mpcalc.geopotential_to_height(Z)"
   ]
  },
  {
   "cell_type": "code",
   "execution_count": null,
   "id": "c7d88605-c178-4cdc-8a7b-8572cfb5e777",
   "metadata": {},
   "outputs": [],
   "source": [
    "HGHT"
   ]
  },
  {
   "cell_type": "code",
   "execution_count": null,
   "id": "d92a9043-300a-46da-b27e-77d541548cb9",
   "metadata": {},
   "outputs": [],
   "source": [
    "HGHT = HGHT.metpy.convert_units('dam')"
   ]
  },
  {
   "cell_type": "code",
   "execution_count": null,
   "id": "8d20ee13-5d48-4d24-8e56-3ab64f960ded",
   "metadata": {},
   "outputs": [],
   "source": [
    "HGHT = HGHT.compute()"
   ]
  },
  {
   "cell_type": "code",
   "execution_count": null,
   "id": "6261b192-d4e0-47b3-8949-57a9349199ab",
   "metadata": {},
   "outputs": [],
   "source": [
    "HGHT.min(),HGHT.max()"
   ]
  },
  {
   "cell_type": "markdown",
   "id": "bb754f1b-10e2-4640-b15b-d928720c7fc8",
   "metadata": {},
   "source": [
    "## **Graphing**"
   ]
  },
  {
   "cell_type": "code",
   "execution_count": null,
   "id": "88583875-cd8e-4690-b7af-3dba751156a5",
   "metadata": {},
   "outputs": [],
   "source": [
    "contour_int = 6\n",
    "HGHTContours = np.arange (462, 606, contour_int)"
   ]
  },
  {
   "cell_type": "code",
   "execution_count": null,
   "id": "db2de946-5e3b-4ece-b5e7-abcbd10c21cd",
   "metadata": {},
   "outputs": [],
   "source": [
    "def segment_cmap(cmap_name, start, end):\n",
    "    cmap = plt.get_cmap(cmap_name)\n",
    "    colors = cmap(np.linspace(start, end))\n",
    "    return LinearSegmentedColormap.from_list(f\"{cmap_name}_segment_{start}_{end}\", colors)\n",
    "\n"
   ]
  },
  {
   "cell_type": "code",
   "execution_count": null,
   "id": "3e792ba3-3223-45a2-a5a9-a2467c3facaa",
   "metadata": {},
   "outputs": [],
   "source": [
    "#segment_cmap = segment_cmap('RdPu', 0.4, 1)"
   ]
  },
  {
   "cell_type": "code",
   "execution_count": null,
   "id": "a45036d0-bb16-46c2-b248-9cca2cb8cea3",
   "metadata": {},
   "outputs": [],
   "source": [
    "cmap='jet'\n",
    "bounds = np.arange(490, 600, 10)\n",
    "ticks = bounds\n"
   ]
  },
  {
   "cell_type": "code",
   "execution_count": null,
   "id": "2fefdf96-95bc-40b2-a56d-eccc42e1e239",
   "metadata": {},
   "outputs": [],
   "source": [
    "#cmap_colors = cmap(np.linspace(0, 1, cmap.N))\n",
    "#n_transparent = 50  # Number of first entries to make transparent\n",
    "#cmap_colors[:n_transparent, -1] = np.linspace(0, 1, n_transparent)  # Adjust alpha from 0 to 1\n",
    "\n",
    "# Create a new colormap with the modified alpha\n",
    "#transparent_cmap = LinearSegmentedColormap.from_list('PuRd_transparent', cmap_colors)\n",
    "#cmap=transparent_cmap"
   ]
  },
  {
   "cell_type": "code",
   "execution_count": null,
   "id": "9d124cab-3734-4e8b-8250-9ef9c7c59686",
   "metadata": {},
   "outputs": [],
   "source": [
    "for time in dateList:\n",
    "    print(\"Processing\", time)\n",
    "    \n",
    "    # Create the time strings, for the figure title as well as for the file name.\n",
    "    timeStr = dt.strftime(time,format=\"%Y-%m-%d %H%M UTC\")\n",
    "    timeStrFile = dt.strftime(time,format=\"%Y%m%d%H\")\n",
    "    levstr=f'{plevel}'\n",
    "    \n",
    "    tl1 = str('ERA5, Valid at: '+ timeStr)\n",
    "    tl2 = (\"Geopotential Height (dam) at \" + levstr + \"mb\")\n",
    "    \n",
    "    title_line = (tl1 + '\\n' + tl2 + '\\n')\n",
    "    \n",
    "    fig = plt.figure(figsize=(22,14)) # Increase size to adjust for the constrained lats/lons\n",
    "    ax = plt.subplot(1,1,1,projection=proj_map)\n",
    "    ax.set_extent ([lonW+constrainLon,lonE-constrainLon,latS+constrainLat,latN-constrainLat])\n",
    "    ax.add_feature(cfeature.COASTLINE.with_scale(res))\n",
    "    ax.add_feature(cfeature.STATES.with_scale(res),edgecolor='brown')\n",
    "    ax.add_feature (cfeature.STATES.with_scale(res))\n",
    "    ax.add_feature (cfeature.RIVERS.with_scale(res))\n",
    "    ax.add_feature (cfeature.LAND.with_scale(res))\n",
    "    ax.add_feature (cfeature.COASTLINE.with_scale(res))\n",
    "    ax.add_feature (cfeature.LAKES.with_scale(res))\n",
    "    ax.add_feature (cfeature.STATES.with_scale(res))\n",
    "    ax.add_feature(cfeature.OCEAN)\n",
    "    \n",
    "    cZ= ax.contour(lons, lats, HGHT.sel(time=time), levels=HGHTContours, colors='black', linewidths=3, transform=proj_data)\n",
    "    ax.clabel(cZ, inline=1, fontsize=12, fmt='%.0f')\n",
    "    \n",
    "    contourf=ax.contourf(lons,lats,HGHT.sel(time=time),levels=HGHTContours,cmap=cmap,transform=proj_data,extend='both')\n",
    "    cbar= plt.colorbar(contourf, ax=ax, ticks=ticks)\n",
    "    cbar.set_label('Geopotential Height dam', rotation=270, labelpad=15)\n",
    "    \n",
    "    \n",
    "    # Wind barbs\n",
    "    #skip = 4\n",
    "    #ax.barbs(lons[::skip],lats[::skip],UKts.sel(time=time)[::skip,::skip].values, VKts.sel(time=time)[::skip,::skip].values, color='black',zorder=2,transform=proj_data)\n",
    "\n",
    "    title = plt.title(title_line,fontsize=16)"
   ]
  },
  {
   "cell_type": "code",
   "execution_count": null,
   "id": "fb0c2cb9-5feb-4e2b-8e44-ddbb887ddbd3",
   "metadata": {},
   "outputs": [],
   "source": []
  }
 ],
 "metadata": {
  "kernelspec": {
   "display_name": "Python 3 Jan. 2024 Environment",
   "language": "python",
   "name": "jan24"
  },
  "language_info": {
   "codemirror_mode": {
    "name": "ipython",
    "version": 3
   },
   "file_extension": ".py",
   "mimetype": "text/x-python",
   "name": "python",
   "nbconvert_exporter": "python",
   "pygments_lexer": "ipython3",
   "version": "3.11.7"
  }
 },
 "nbformat": 4,
 "nbformat_minor": 5
}
